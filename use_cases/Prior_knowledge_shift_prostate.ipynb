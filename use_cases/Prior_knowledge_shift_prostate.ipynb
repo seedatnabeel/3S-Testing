{
 "cells": [
  {
   "cell_type": "code",
   "execution_count": 1,
   "id": "2d7413eb",
   "metadata": {},
   "outputs": [
    {
     "name": "stderr",
     "output_type": "stream",
     "text": [
      "/home/nabeel/miniconda3/envs/3s_final_env/lib/python3.7/site-packages/tqdm/auto.py:21: TqdmWarning: IProgress not found. Please update jupyter and ipywidgets. See https://ipywidgets.readthedocs.io/en/stable/user_install.html\n",
      "  from .autonotebook import tqdm as notebook_tqdm\n"
     ]
    }
   ],
   "source": [
    "import sys\n",
    "sys.path.insert(0, \"../\")\n",
    "\n",
    "import matplotlib.pyplot as plt\n",
    "import numpy as np\n",
    "import pandas as pd\n",
    "from ctgan.synthesizers.ctgan import CTGANSynthesizer\n",
    "from sklearn.ensemble import GradientBoostingClassifier, RandomForestClassifier\n",
    "from sklearn.metrics import accuracy_score, roc_auc_score\n",
    "from sklearn.model_selection import train_test_split\n",
    "from sklearn.neighbors import KNeighborsClassifier\n",
    "from sklearn.neural_network import MLPClassifier\n",
    "from sklearn.tree import DecisionTreeClassifier\n",
    "from sklearn.utils import shuffle\n",
    "\n",
    "from src.data_loader import load_seer_cutract_dataset\n",
    "from src.utils import *\n",
    "from src.ood_predictors import *"
   ]
  },
  {
   "attachments": {},
   "cell_type": "markdown",
   "id": "e073e113",
   "metadata": {},
   "source": [
    "# Load datasets"
   ]
  },
  {
   "cell_type": "code",
   "execution_count": 2,
   "id": "3ac78219",
   "metadata": {},
   "outputs": [],
   "source": [
    "from src.data_loader import load_seer_cutract_dataset\n",
    "\n",
    "seed = 0\n",
    "seed_everything(seed)\n",
    "\n",
    "# Load SEER - Source\n",
    "X_seer, y_seer = load_seer_cutract_dataset(name=\"seer\")\n",
    "D_seer = X_seer\n",
    "D_seer[\"y\"] = y_seer\n",
    "X_train = D_seer\n",
    "\n",
    "# Load CUTRACT - Target\n",
    "X_cutract, y_cutract = load_seer_cutract_dataset(name=\"cutract\")\n",
    "D_cutract = X_cutract\n",
    "D_cutract[\"y\"] = y_cutract\n",
    "X_test = D_cutract\n",
    "\n",
    "X_train = X_train.drop(columns=[\"grade\"])\n",
    "X_test = X_test.drop(columns=[\"grade\"])"
   ]
  },
  {
   "attachments": {},
   "cell_type": "markdown",
   "id": "9b83191d",
   "metadata": {},
   "source": [
    "# Fit CTGAN"
   ]
  },
  {
   "cell_type": "code",
   "execution_count": 3,
   "id": "db6cf999",
   "metadata": {},
   "outputs": [],
   "source": [
    "discrete_columns = [\n",
    "    \"age\",\n",
    "    \"comorbidities\",\n",
    "    \"treatment\",\n",
    "    \"stage\",\n",
    "]\n",
    "\n",
    "syn_model = CTGANSynthesizer(\n",
    "    embedding_dim=128,\n",
    "    generator_dim=(256, 256),\n",
    "    discriminator_dim=(256, 256),\n",
    "    generator_lr=2e-4,\n",
    "    generator_decay=1e-6,\n",
    "    discriminator_lr=2e-4,\n",
    "    discriminator_decay=1e-6,\n",
    "    batch_size=500,\n",
    "    discriminator_steps=1,\n",
    "    log_frequency=True,\n",
    "    verbose=False,\n",
    "    epochs=300,\n",
    "    pac=10,\n",
    "    cuda=True,\n",
    ")\n",
    "syn_model.set_random_state(seed)\n",
    "syn_model.fit(train_data=X_train, discrete_columns=discrete_columns)\n"
   ]
  },
  {
   "attachments": {},
   "cell_type": "markdown",
   "id": "8f371dae",
   "metadata": {},
   "source": [
    "# Helpers"
   ]
  },
  {
   "cell_type": "code",
   "execution_count": 4,
   "id": "5c6ac565",
   "metadata": {},
   "outputs": [],
   "source": [
    "def get_scores(data, trained_model_dict):\n",
    "    from tqdm import tqdm\n",
    "\n",
    "    target_acc = {}\n",
    "\n",
    "    for model in tqdm(model_dict.keys()):\n",
    "        print(model)\n",
    "        clf = trained_model_dict[model]\n",
    "        y_score = clf.predict_proba(data.drop(\"y\", axis=1))[:, 1]\n",
    "        y_pred = clf.predict(data.drop(\"y\", axis=1))\n",
    "\n",
    "        target_acc[model] = accuracy_score(data[\"y\"], y_pred)\n",
    "  \n",
    "    return target_acc \n"
   ]
  },
  {
   "attachments": {},
   "cell_type": "markdown",
   "id": "0fa4c97d",
   "metadata": {},
   "source": [
    "# Sample synthetic data"
   ]
  },
  {
   "cell_type": "code",
   "execution_count": 5,
   "id": "dd8a3c80",
   "metadata": {},
   "outputs": [
    {
     "data": {
      "text/html": [
       "<div>\n",
       "<style scoped>\n",
       "    .dataframe tbody tr th:only-of-type {\n",
       "        vertical-align: middle;\n",
       "    }\n",
       "\n",
       "    .dataframe tbody tr th {\n",
       "        vertical-align: top;\n",
       "    }\n",
       "\n",
       "    .dataframe thead th {\n",
       "        text-align: right;\n",
       "    }\n",
       "</style>\n",
       "<table border=\"1\" class=\"dataframe\">\n",
       "  <thead>\n",
       "    <tr style=\"text-align: right;\">\n",
       "      <th></th>\n",
       "      <th>age</th>\n",
       "      <th>psa</th>\n",
       "      <th>comorbidities</th>\n",
       "      <th>treatment</th>\n",
       "      <th>stage</th>\n",
       "      <th>y</th>\n",
       "    </tr>\n",
       "  </thead>\n",
       "  <tbody>\n",
       "    <tr>\n",
       "      <th>0</th>\n",
       "      <td>73</td>\n",
       "      <td>96</td>\n",
       "      <td>2</td>\n",
       "      <td>3</td>\n",
       "      <td>4</td>\n",
       "      <td>0</td>\n",
       "    </tr>\n",
       "    <tr>\n",
       "      <th>1</th>\n",
       "      <td>58</td>\n",
       "      <td>97</td>\n",
       "      <td>0</td>\n",
       "      <td>4</td>\n",
       "      <td>4</td>\n",
       "      <td>1</td>\n",
       "    </tr>\n",
       "    <tr>\n",
       "      <th>2</th>\n",
       "      <td>64</td>\n",
       "      <td>8</td>\n",
       "      <td>0</td>\n",
       "      <td>3</td>\n",
       "      <td>2</td>\n",
       "      <td>0</td>\n",
       "    </tr>\n",
       "    <tr>\n",
       "      <th>3</th>\n",
       "      <td>55</td>\n",
       "      <td>3</td>\n",
       "      <td>0</td>\n",
       "      <td>3</td>\n",
       "      <td>2</td>\n",
       "      <td>0</td>\n",
       "    </tr>\n",
       "    <tr>\n",
       "      <th>4</th>\n",
       "      <td>73</td>\n",
       "      <td>17</td>\n",
       "      <td>0</td>\n",
       "      <td>1</td>\n",
       "      <td>2</td>\n",
       "      <td>0</td>\n",
       "    </tr>\n",
       "    <tr>\n",
       "      <th>...</th>\n",
       "      <td>...</td>\n",
       "      <td>...</td>\n",
       "      <td>...</td>\n",
       "      <td>...</td>\n",
       "      <td>...</td>\n",
       "      <td>...</td>\n",
       "    </tr>\n",
       "    <tr>\n",
       "      <th>99995</th>\n",
       "      <td>68</td>\n",
       "      <td>5</td>\n",
       "      <td>0</td>\n",
       "      <td>3</td>\n",
       "      <td>2</td>\n",
       "      <td>1</td>\n",
       "    </tr>\n",
       "    <tr>\n",
       "      <th>99996</th>\n",
       "      <td>52</td>\n",
       "      <td>8</td>\n",
       "      <td>0</td>\n",
       "      <td>1</td>\n",
       "      <td>3</td>\n",
       "      <td>0</td>\n",
       "    </tr>\n",
       "    <tr>\n",
       "      <th>99997</th>\n",
       "      <td>51</td>\n",
       "      <td>4</td>\n",
       "      <td>0</td>\n",
       "      <td>3</td>\n",
       "      <td>2</td>\n",
       "      <td>0</td>\n",
       "    </tr>\n",
       "    <tr>\n",
       "      <th>99998</th>\n",
       "      <td>65</td>\n",
       "      <td>14</td>\n",
       "      <td>0</td>\n",
       "      <td>3</td>\n",
       "      <td>3</td>\n",
       "      <td>1</td>\n",
       "    </tr>\n",
       "    <tr>\n",
       "      <th>99999</th>\n",
       "      <td>79</td>\n",
       "      <td>6</td>\n",
       "      <td>0</td>\n",
       "      <td>3</td>\n",
       "      <td>4</td>\n",
       "      <td>1</td>\n",
       "    </tr>\n",
       "  </tbody>\n",
       "</table>\n",
       "<p>100000 rows × 6 columns</p>\n",
       "</div>"
      ],
      "text/plain": [
       "       age  psa  comorbidities  treatment  stage  y\n",
       "0       73   96              2          3      4  0\n",
       "1       58   97              0          4      4  1\n",
       "2       64    8              0          3      2  0\n",
       "3       55    3              0          3      2  0\n",
       "4       73   17              0          1      2  0\n",
       "...    ...  ...            ...        ...    ... ..\n",
       "99995   68    5              0          3      2  1\n",
       "99996   52    8              0          1      3  0\n",
       "99997   51    4              0          3      2  0\n",
       "99998   65   14              0          3      3  1\n",
       "99999   79    6              0          3      4  1\n",
       "\n",
       "[100000 rows x 6 columns]"
      ]
     },
     "execution_count": 5,
     "metadata": {},
     "output_type": "execute_result"
    }
   ],
   "source": [
    "n_samples = 100000\n",
    "X_syn, _ = syn_model.sample(n_samples, shift=False)\n",
    "\n",
    "X_syn.psa = X_syn.psa.astype(int)\n",
    "X_syn\n"
   ]
  },
  {
   "attachments": {},
   "cell_type": "markdown",
   "id": "3ec0d5e8",
   "metadata": {},
   "source": [
    "# Train base models & compute performance scores"
   ]
  },
  {
   "cell_type": "code",
   "execution_count": 6,
   "id": "b8692af7",
   "metadata": {},
   "outputs": [
    {
     "name": "stderr",
     "output_type": "stream",
     "text": [
      " 25%|██▌       | 2/8 [00:00<00:00, 13.21it/s]"
     ]
    },
    {
     "name": "stdout",
     "output_type": "stream",
     "text": [
      "mlp\n",
      "knn\n",
      "dt\n",
      "rf\n"
     ]
    },
    {
     "name": "stderr",
     "output_type": "stream",
     "text": [
      "100%|██████████| 8/8 [00:00<00:00, 31.84it/s]\n"
     ]
    },
    {
     "name": "stdout",
     "output_type": "stream",
     "text": [
      "gbc\n",
      "bag\n",
      "ada\n",
      "lr\n"
     ]
    },
    {
     "name": "stderr",
     "output_type": "stream",
     "text": [
      " 38%|███▊      | 3/8 [00:00<00:00, 29.54it/s]"
     ]
    },
    {
     "name": "stdout",
     "output_type": "stream",
     "text": [
      "mlp\n",
      "knn\n",
      "dt\n",
      "rf\n"
     ]
    },
    {
     "name": "stderr",
     "output_type": "stream",
     "text": [
      "100%|██████████| 8/8 [00:00<00:00, 29.50it/s]\n"
     ]
    },
    {
     "name": "stdout",
     "output_type": "stream",
     "text": [
      "gbc\n",
      "bag\n",
      "ada\n",
      "lr\n"
     ]
    },
    {
     "name": "stderr",
     "output_type": "stream",
     "text": [
      " 12%|█▎        | 1/8 [00:00<00:00,  9.76it/s]"
     ]
    },
    {
     "name": "stdout",
     "output_type": "stream",
     "text": [
      "mlp\n",
      "knn\n"
     ]
    },
    {
     "name": "stderr",
     "output_type": "stream",
     "text": [
      " 25%|██▌       | 2/8 [00:01<00:06,  1.15s/it]"
     ]
    },
    {
     "name": "stdout",
     "output_type": "stream",
     "text": [
      "dt\n",
      "rf\n"
     ]
    },
    {
     "name": "stderr",
     "output_type": "stream",
     "text": [
      " 50%|█████     | 4/8 [00:03<00:04,  1.04s/it]"
     ]
    },
    {
     "name": "stdout",
     "output_type": "stream",
     "text": [
      "gbc\n"
     ]
    },
    {
     "name": "stderr",
     "output_type": "stream",
     "text": [
      " 75%|███████▌  | 6/8 [00:04<00:01,  1.65it/s]"
     ]
    },
    {
     "name": "stdout",
     "output_type": "stream",
     "text": [
      "bag\n",
      "ada\n"
     ]
    },
    {
     "name": "stderr",
     "output_type": "stream",
     "text": [
      "100%|██████████| 8/8 [00:04<00:00,  1.61it/s]"
     ]
    },
    {
     "name": "stdout",
     "output_type": "stream",
     "text": [
      "lr\n"
     ]
    },
    {
     "name": "stderr",
     "output_type": "stream",
     "text": [
      "\n"
     ]
    }
   ],
   "source": [
    "from sklearn.ensemble import AdaBoostClassifier, BaggingClassifier\n",
    "from sklearn.linear_model import LogisticRegression\n",
    "from sklearn.svm import SVC\n",
    "\n",
    "model_dict = {\n",
    "    \"mlp\": MLPClassifier(random_state=seed),\n",
    "    \"knn\": KNeighborsClassifier(),\n",
    "    \"dt\": DecisionTreeClassifier(random_state=seed),\n",
    "    \"rf\": RandomForestClassifier(random_state=seed),\n",
    "    \"gbc\": GradientBoostingClassifier(random_state=seed),\n",
    "    \"bag\": BaggingClassifier(random_state=seed),\n",
    "    \"ada\": AdaBoostClassifier(random_state=seed),\n",
    "    \"lr\": LogisticRegression(random_state=seed),\n",
    "}\n",
    "\n",
    "\n",
    "# Train models on source data\n",
    "trained_model_dict = train_models(X_train, model_dict)\n",
    "\n",
    "X_train, X_val = train_test_split(X_train, test_size=0.2, random_state=seed)\n",
    "\n",
    "# Evaluate on train, val, test, and synthetic data\n",
    "test_scores = get_scores(data=X_test, trained_model_dict=trained_model_dict)\n",
    "\n",
    "val_scores = get_scores(data=X_val, trained_model_dict=trained_model_dict)\n",
    "\n",
    "base_syn_scores = get_scores(data=X_syn, trained_model_dict=trained_model_dict)\n"
   ]
  },
  {
   "attachments": {},
   "cell_type": "markdown",
   "id": "b190c1ba",
   "metadata": {},
   "source": [
    "# Define marginals from test set that we will sample from"
   ]
  },
  {
   "cell_type": "code",
   "execution_count": 7,
   "id": "595f6999",
   "metadata": {},
   "outputs": [],
   "source": [
    "# age_conditionals = X_test.age.to_numpy()\n",
    "age_conditionals = np.random.normal(\n",
    "    loc=X_test.age.mean(), scale=X_test.age.std() / 2, size=len(X_test.age.to_numpy())\n",
    ")\n",
    "psa_conditionals = X_test.psa.to_numpy()  #\n",
    "# psa_conditionals = np.random.normal(loc=X_test.psa.mean(), scale=X_test.psa.std(), size=10000)\n",
    "treatment_conditionals = X_test.stage.to_numpy()\n",
    "stage_conditionals = X_test.treatment.to_numpy()\n",
    "comorbidities_conditionals = X_test.comorbidities.to_numpy()\n",
    "\n",
    "indices = np.array(list(range(len(age_conditionals))))\n"
   ]
  },
  {
   "attachments": {},
   "cell_type": "markdown",
   "id": "ee544993",
   "metadata": {},
   "source": [
    "# Test access to different number of features (prior knowledge) - SYNTHETIC"
   ]
  },
  {
   "cell_type": "code",
   "execution_count": 8,
   "id": "b9c3e2c0",
   "metadata": {},
   "outputs": [
    {
     "name": "stderr",
     "output_type": "stream",
     "text": [
      "  0%|          | 0/8 [00:00<?, ?it/s]"
     ]
    },
    {
     "name": "stdout",
     "output_type": "stream",
     "text": [
      "mlp\n"
     ]
    },
    {
     "name": "stderr",
     "output_type": "stream",
     "text": [
      " 12%|█▎        | 1/8 [00:02<00:15,  2.26s/it]"
     ]
    },
    {
     "name": "stdout",
     "output_type": "stream",
     "text": [
      "knn\n"
     ]
    },
    {
     "name": "stderr",
     "output_type": "stream",
     "text": [
      " 25%|██▌       | 2/8 [00:58<03:24, 34.05s/it]"
     ]
    },
    {
     "name": "stdout",
     "output_type": "stream",
     "text": [
      "dt\n"
     ]
    },
    {
     "name": "stderr",
     "output_type": "stream",
     "text": [
      " 38%|███▊      | 3/8 [00:59<01:34, 18.90s/it]"
     ]
    },
    {
     "name": "stdout",
     "output_type": "stream",
     "text": [
      "rf\n"
     ]
    },
    {
     "name": "stderr",
     "output_type": "stream",
     "text": [
      " 50%|█████     | 4/8 [01:51<02:08, 32.11s/it]"
     ]
    },
    {
     "name": "stdout",
     "output_type": "stream",
     "text": [
      "gbc\n"
     ]
    },
    {
     "name": "stderr",
     "output_type": "stream",
     "text": [
      " 62%|██████▎   | 5/8 [01:56<01:07, 22.37s/it]"
     ]
    },
    {
     "name": "stdout",
     "output_type": "stream",
     "text": [
      "bag\n"
     ]
    },
    {
     "name": "stderr",
     "output_type": "stream",
     "text": [
      " 75%|███████▌  | 6/8 [02:02<00:33, 16.78s/it]"
     ]
    },
    {
     "name": "stdout",
     "output_type": "stream",
     "text": [
      "ada\n"
     ]
    },
    {
     "name": "stderr",
     "output_type": "stream",
     "text": [
      " 88%|████████▊ | 7/8 [02:28<00:19, 19.85s/it]"
     ]
    },
    {
     "name": "stdout",
     "output_type": "stream",
     "text": [
      "lr\n"
     ]
    },
    {
     "name": "stderr",
     "output_type": "stream",
     "text": [
      "100%|██████████| 8/8 [02:29<00:00, 18.66s/it]\n",
      " 12%|█▎        | 1/8 [00:00<00:00,  9.73it/s]"
     ]
    },
    {
     "name": "stdout",
     "output_type": "stream",
     "text": [
      "mlp\n",
      "knn\n"
     ]
    },
    {
     "name": "stderr",
     "output_type": "stream",
     "text": [
      " 25%|██▌       | 2/8 [00:01<00:06,  1.07s/it]"
     ]
    },
    {
     "name": "stdout",
     "output_type": "stream",
     "text": [
      "dt\n",
      "rf\n"
     ]
    },
    {
     "name": "stderr",
     "output_type": "stream",
     "text": [
      " 62%|██████▎   | 5/8 [00:03<00:01,  1.72it/s]"
     ]
    },
    {
     "name": "stdout",
     "output_type": "stream",
     "text": [
      "gbc\n",
      "bag\n"
     ]
    },
    {
     "name": "stderr",
     "output_type": "stream",
     "text": [
      " 75%|███████▌  | 6/8 [00:03<00:00,  2.09it/s]"
     ]
    },
    {
     "name": "stdout",
     "output_type": "stream",
     "text": [
      "ada\n"
     ]
    },
    {
     "name": "stderr",
     "output_type": "stream",
     "text": [
      "100%|██████████| 8/8 [00:04<00:00,  1.98it/s]\n"
     ]
    },
    {
     "name": "stdout",
     "output_type": "stream",
     "text": [
      "lr\n"
     ]
    },
    {
     "name": "stderr",
     "output_type": "stream",
     "text": [
      "  0%|          | 0/8 [00:00<?, ?it/s]"
     ]
    },
    {
     "name": "stdout",
     "output_type": "stream",
     "text": [
      "mlp\n",
      "knn\n"
     ]
    },
    {
     "name": "stderr",
     "output_type": "stream",
     "text": [
      " 25%|██▌       | 2/8 [00:00<00:01,  4.64it/s]"
     ]
    },
    {
     "name": "stdout",
     "output_type": "stream",
     "text": [
      "dt\n",
      "rf\n"
     ]
    },
    {
     "name": "stderr",
     "output_type": "stream",
     "text": [
      " 88%|████████▊ | 7/8 [00:00<00:00,  8.70it/s]"
     ]
    },
    {
     "name": "stdout",
     "output_type": "stream",
     "text": [
      "gbc\n",
      "bag\n",
      "ada\n",
      "lr\n"
     ]
    },
    {
     "name": "stderr",
     "output_type": "stream",
     "text": [
      "100%|██████████| 8/8 [00:00<00:00,  8.57it/s]\n",
      " 25%|██▌       | 2/8 [00:00<00:00, 15.20it/s]"
     ]
    },
    {
     "name": "stdout",
     "output_type": "stream",
     "text": [
      "mlp\n",
      "knn\n",
      "dt\n",
      "rf\n"
     ]
    },
    {
     "name": "stderr",
     "output_type": "stream",
     "text": [
      "100%|██████████| 8/8 [00:00<00:00, 27.78it/s]\n"
     ]
    },
    {
     "name": "stdout",
     "output_type": "stream",
     "text": [
      "gbc\n",
      "bag\n",
      "ada\n",
      "lr\n"
     ]
    },
    {
     "name": "stderr",
     "output_type": "stream",
     "text": [
      "100%|██████████| 8/8 [00:00<00:00, 90.84it/s]"
     ]
    },
    {
     "name": "stdout",
     "output_type": "stream",
     "text": [
      "mlp\n",
      "knn\n",
      "dt\n",
      "rf\n",
      "gbc\n",
      "bag\n",
      "ada\n",
      "lr\n"
     ]
    },
    {
     "name": "stderr",
     "output_type": "stream",
     "text": [
      "\n"
     ]
    }
   ],
   "source": [
    "scores = {}\n",
    "\n",
    "# sequentially add features of prior knowledge\n",
    "for n_feat in [1, 2, 3, 4, 5]:\n",
    "\n",
    "    synth, _ = syn_model.sample(1, shift=False)\n",
    "\n",
    "    for i in range(1000):\n",
    "        condidx = int(np.random.choice(indices, 1)[0])\n",
    "        age_val = int(age_conditionals[condidx])\n",
    "        psa_val = psa_conditionals[condidx]\n",
    "        treatment_val = treatment_conditionals[condidx]\n",
    "        stage_val = stage_conditionals[condidx]\n",
    "        comorbidities_val = comorbidities_conditionals[condidx]\n",
    "\n",
    "        if n_feat == 0:\n",
    "            syn_data = X_syn.sample(100)\n",
    "            synth = pd.concat([synth, syn_data])\n",
    "\n",
    "        if n_feat == 1:\n",
    "            idx = np.where((X_syn[\"age\"] == age_val))[0]\n",
    "            if len(idx) > 0:\n",
    "                syn_data = X_syn.iloc[idx]\n",
    "                synth = pd.concat([synth, syn_data])\n",
    "\n",
    "        if n_feat == 2:\n",
    "            idx = np.where((X_syn[\"age\"] == age_val) & (X_syn[\"psa\"] == psa_val))[0]\n",
    "            if len(idx) > 0:\n",
    "                syn_data = X_syn.iloc[idx]\n",
    "                synth = pd.concat([synth, syn_data])\n",
    "\n",
    "        if n_feat == 3:\n",
    "            idx = np.where(\n",
    "                (X_syn[\"age\"] == age_val)\n",
    "                & (X_syn[\"psa\"] == psa_val)\n",
    "                & (X_syn[\"treatment\"] == treatment_val)\n",
    "            )[0]\n",
    "            if len(idx) > 0:\n",
    "                syn_data = X_syn.iloc[idx]\n",
    "                synth = pd.concat([synth, syn_data])\n",
    "\n",
    "        if n_feat == 4:\n",
    "            idx = np.where(\n",
    "                (X_syn[\"age\"] == age_val)\n",
    "                & (X_syn[\"psa\"] == psa_val)\n",
    "                & (X_syn[\"treatment\"] == treatment_val)\n",
    "                & (X_syn[\"stage\"] == stage_val)\n",
    "            )[0]\n",
    "            if len(idx) > 0:\n",
    "                syn_data = X_syn.iloc[idx]\n",
    "                synth = pd.concat([synth, syn_data])\n",
    "\n",
    "        if n_feat == 5:\n",
    "            idx = np.where(\n",
    "                (X_syn[\"age\"] == age_val)\n",
    "                & (X_syn[\"psa\"] == psa_val)\n",
    "                & (\n",
    "                    X_syn[\"treatment\"]\n",
    "                    == treatment_val\n",
    "                    & (X_syn[\"stage\"] == stage_val)\n",
    "                    & (X_syn[\"comorbidities\"] == comorbidities_val)\n",
    "                )\n",
    "            )[0]\n",
    "            if len(idx) > 0:\n",
    "                syn_data = X_syn.iloc[idx]\n",
    "                synth = pd.concat([synth, syn_data])\n",
    "\n",
    "    features = [\"age\", \"psa\", \"comorbidities\", \"treatment\", \"stage\", \"y\"]\n",
    "    X_syn_sampled = synth[features]\n",
    "\n",
    "    # Compute scores\n",
    "    score = get_scores(data=X_syn_sampled, trained_model_dict=trained_model_dict)\n",
    "    scores[n_feat] = score\n"
   ]
  },
  {
   "attachments": {},
   "cell_type": "markdown",
   "id": "92ef1729",
   "metadata": {},
   "source": [
    "# Test access to different number of features (prior knowledge) - SLICES OF X_train"
   ]
  },
  {
   "cell_type": "code",
   "execution_count": 9,
   "id": "c9aefb10",
   "metadata": {},
   "outputs": [
    {
     "name": "stderr",
     "output_type": "stream",
     "text": [
      "  0%|          | 0/8 [00:00<?, ?it/s]"
     ]
    },
    {
     "name": "stdout",
     "output_type": "stream",
     "text": [
      "mlp\n"
     ]
    },
    {
     "name": "stderr",
     "output_type": "stream",
     "text": [
      " 12%|█▎        | 1/8 [00:00<00:02,  2.44it/s]"
     ]
    },
    {
     "name": "stdout",
     "output_type": "stream",
     "text": [
      "knn\n"
     ]
    },
    {
     "name": "stderr",
     "output_type": "stream",
     "text": [
      " 38%|███▊      | 3/8 [00:08<00:13,  2.62s/it]"
     ]
    },
    {
     "name": "stdout",
     "output_type": "stream",
     "text": [
      "dt\n",
      "rf\n"
     ]
    },
    {
     "name": "stderr",
     "output_type": "stream",
     "text": [
      " 50%|█████     | 4/8 [00:15<00:18,  4.57s/it]"
     ]
    },
    {
     "name": "stdout",
     "output_type": "stream",
     "text": [
      "gbc\n"
     ]
    },
    {
     "name": "stderr",
     "output_type": "stream",
     "text": [
      " 62%|██████▎   | 5/8 [00:16<00:09,  3.12s/it]"
     ]
    },
    {
     "name": "stdout",
     "output_type": "stream",
     "text": [
      "bag\n"
     ]
    },
    {
     "name": "stderr",
     "output_type": "stream",
     "text": [
      " 75%|███████▌  | 6/8 [00:17<00:04,  2.33s/it]"
     ]
    },
    {
     "name": "stdout",
     "output_type": "stream",
     "text": [
      "ada\n"
     ]
    },
    {
     "name": "stderr",
     "output_type": "stream",
     "text": [
      "100%|██████████| 8/8 [00:20<00:00,  2.57s/it]\n"
     ]
    },
    {
     "name": "stdout",
     "output_type": "stream",
     "text": [
      "lr\n"
     ]
    },
    {
     "name": "stderr",
     "output_type": "stream",
     "text": [
      " 25%|██▌       | 2/8 [00:00<00:00, 19.00it/s]"
     ]
    },
    {
     "name": "stdout",
     "output_type": "stream",
     "text": [
      "mlp\n",
      "knn\n",
      "dt\n",
      "rf\n",
      "gbc\n",
      "bag\n",
      "ada\n",
      "lr\n"
     ]
    },
    {
     "name": "stderr",
     "output_type": "stream",
     "text": [
      "100%|██████████| 8/8 [00:00<00:00, 38.11it/s]\n",
      "100%|██████████| 8/8 [00:00<00:00, 102.49it/s]\n"
     ]
    },
    {
     "name": "stdout",
     "output_type": "stream",
     "text": [
      "mlp\n",
      "knn\n",
      "dt\n",
      "rf\n",
      "gbc\n",
      "bag\n",
      "ada\n",
      "lr\n"
     ]
    },
    {
     "name": "stderr",
     "output_type": "stream",
     "text": [
      "100%|██████████| 8/8 [00:00<00:00, 241.78it/s]\n"
     ]
    },
    {
     "name": "stdout",
     "output_type": "stream",
     "text": [
      "mlp\n",
      "knn\n",
      "dt\n",
      "rf\n",
      "gbc\n",
      "bag\n",
      "ada\n",
      "lr\n"
     ]
    },
    {
     "name": "stderr",
     "output_type": "stream",
     "text": [
      "100%|██████████| 8/8 [00:00<00:00, 251.93it/s]"
     ]
    },
    {
     "name": "stdout",
     "output_type": "stream",
     "text": [
      "mlp\n",
      "knn\n",
      "dt\n",
      "rf\n",
      "gbc\n",
      "bag\n",
      "ada\n",
      "lr\n"
     ]
    },
    {
     "name": "stderr",
     "output_type": "stream",
     "text": [
      "\n"
     ]
    }
   ],
   "source": [
    "train_scores = {}\n",
    "\n",
    "X_slice = X_train\n",
    "\n",
    "# sequentially add features of prior knowledge\n",
    "for n_feat in [1, 2, 3, 4, 5]:\n",
    "\n",
    "    train_slice = X_slice.sample(1)\n",
    "\n",
    "    for i in range(1000):\n",
    "        condidx = int(np.random.choice(indices, 1)[0])\n",
    "        age_val = int(age_conditionals[condidx])\n",
    "        psa_val = psa_conditionals[condidx]\n",
    "        treatment_val = treatment_conditionals[condidx]\n",
    "        stage_val = stage_conditionals[condidx]\n",
    "        comorbidities_val = comorbidities_conditionals[condidx]\n",
    "\n",
    "        if n_feat == 0:\n",
    "            x_data = X_train.sample(100)\n",
    "            train_slice = pd.concat([train_slice, x_data])\n",
    "\n",
    "        if n_feat == 1:\n",
    "            idx = np.where((X_slice[\"age\"] == age_val))[0]\n",
    "            if len(idx) > 0:\n",
    "                x_data = X_slice.iloc[idx]\n",
    "                train_slice = pd.concat([train_slice, x_data])\n",
    "\n",
    "        if n_feat == 2:\n",
    "            idx = np.where((X_slice[\"age\"] == age_val) & (X_slice[\"psa\"] == psa_val))[0]\n",
    "            if len(idx) > 0:\n",
    "                x_data = X_slice.iloc[idx]\n",
    "                train_slice = pd.concat([train_slice, x_data])\n",
    "\n",
    "        if n_feat == 3:\n",
    "            idx = np.where(\n",
    "                (X_slice[\"age\"] == age_val)\n",
    "                & (X_slice[\"psa\"] == psa_val)\n",
    "                & (X_slice[\"treatment\"] == treatment_val)\n",
    "            )[0]\n",
    "            if len(idx) > 0:\n",
    "                x_data = X_slice.iloc[idx]\n",
    "                train_slice = pd.concat([train_slice, x_data])\n",
    "\n",
    "        if n_feat == 4:\n",
    "            idx = np.where(\n",
    "                (X_slice[\"age\"] == age_val)\n",
    "                & (X_slice[\"psa\"] == psa_val)\n",
    "                & (\n",
    "                    X_slice[\"treatment\"]\n",
    "                    == treatment_val & (X_slice[\"comorbidities\"] == comorbidities_val)\n",
    "                )\n",
    "            )[0]\n",
    "         \n",
    "            if len(idx) > 0:\n",
    "                x_data = X_slice.iloc[idx]\n",
    "                train_slice = pd.concat([train_slice, x_data])\n",
    "\n",
    "        if n_feat == 5:\n",
    "            idx = np.where(\n",
    "                (X_slice[\"age\"] == age_val)\n",
    "                & (X_slice[\"psa\"] == psa_val)\n",
    "                & (\n",
    "                    X_slice[\"treatment\"]\n",
    "                    == treatment_val\n",
    "                    & (X_train[\"stage\"] == stage_val)\n",
    "                    & (X_slice[\"comorbidities\"] == comorbidities_val)\n",
    "                )\n",
    "            )[0]\n",
    "            if len(idx) > 0:\n",
    "                x_data = X_slice.iloc[idx]\n",
    "                train_slice = pd.concat([train_slice, syn_data])\n",
    "\n",
    "    features = [\"age\", \"psa\", \"comorbidities\", \"treatment\", \"stage\", \"y\"]\n",
    "    X_train_sampled = train_slice[features]\n",
    "\n",
    "    train_score = get_scores(\n",
    "        data=X_train_sampled, trained_model_dict=trained_model_dict\n",
    "    )\n",
    "    train_scores[n_feat] = train_score\n"
   ]
  },
  {
   "attachments": {},
   "cell_type": "markdown",
   "id": "4057f8cf",
   "metadata": {},
   "source": [
    "# Collate the results"
   ]
  },
  {
   "cell_type": "code",
   "execution_count": 10,
   "id": "c3afc6aa",
   "metadata": {},
   "outputs": [],
   "source": [
    "atc_scores = {}\n",
    "atc_scores_mc = {}\n",
    "im_est_scores = {}\n",
    "doc_feat_scores = {}\n",
    "for model_name in trained_model_dict.keys():\n",
    "    atc_scores[model_name] = test_atc(model_name, trained_model_dict, X_test, X_val)\n",
    "    atc_scores_mc[model_name] = test_atc_mc(\n",
    "        model_name, trained_model_dict, X_test, X_val\n",
    "    )\n",
    "    im_est_scores[model_name] = test_im_est(\n",
    "        model_name, trained_model_dict, X_test, X_val\n",
    "    )\n",
    "    doc_feat_scores[model_name] = test_doc_feat(\n",
    "        model_name, trained_model_dict, X_test, X_val\n",
    "    )\n"
   ]
  },
  {
   "cell_type": "code",
   "execution_count": 11,
   "id": "8939dd72",
   "metadata": {},
   "outputs": [],
   "source": [
    "target = []\n",
    "source = []\n",
    "syn = []\n",
    "train_slice = []\n",
    "atc = []\n",
    "atc_mc = []\n",
    "im_est = []\n",
    "doc_feat = []\n",
    "\n",
    "for model_name in trained_model_dict.keys():\n",
    "    target.append([test_scores[model_name] for i in range(len(scores.keys()))])\n",
    "    source.append([val_scores[model_name] for i in range(len(scores.keys()))])\n",
    "    syn.append([scores[i][model_name] for i in scores.keys()])\n",
    "    train_slice.append([train_scores[i][model_name] for i in train_scores.keys()])\n",
    "    atc.append([atc_scores[model_name] for i in range(len(scores.keys()))])\n",
    "    atc_mc.append([atc_scores_mc[model_name] for i in range(len(scores.keys()))])\n",
    "    im_est.append([im_est_scores[model_name] for i in range(len(scores.keys()))])\n",
    "    doc_feat.append([doc_feat_scores[model_name] for i in range(len(scores.keys()))])\n"
   ]
  },
  {
   "attachments": {},
   "cell_type": "markdown",
   "id": "cee813cc",
   "metadata": {},
   "source": [
    "# Compute the mean and std --- across predictive models"
   ]
  },
  {
   "cell_type": "code",
   "execution_count": 12,
   "id": "12bc37eb",
   "metadata": {},
   "outputs": [],
   "source": [
    "target_mean = np.mean(np.array(target), axis=0)\n",
    "source_mean = np.mean(np.array(source), axis=0)\n",
    "syn_mean = np.mean(np.array(syn), axis=0)\n",
    "slice_mean = np.mean(np.array(train_slice), axis=0)\n",
    "atc_mean = np.mean(np.array(atc), axis=0)\n",
    "atc_mc_mean = np.mean(np.array(atc_mc), axis=0)\n",
    "im_est_mean = np.mean(np.array(im_est), axis=0)\n",
    "\n",
    "target_std = np.std(np.array(target), axis=0)\n",
    "source_std = np.std(np.array(source), axis=0)\n",
    "syn_std = np.std(np.array(syn), axis=0)\n",
    "slice_std = np.std(np.array(train_slice), axis=0)\n",
    "atc_std = np.std(np.array(atc), axis=0)\n",
    "atc_mc_std = np.std(np.array(atc_mc), axis=0)\n",
    "im_est_std = np.std(np.array(im_est), axis=0)\n",
    "\n",
    "x = [val + 1 for val in list(range(len(target_mean)))]\n"
   ]
  },
  {
   "attachments": {},
   "cell_type": "markdown",
   "id": "519ae61d",
   "metadata": {},
   "source": [
    "# Plot results curve"
   ]
  },
  {
   "cell_type": "code",
   "execution_count": 14,
   "id": "fa750ceb",
   "metadata": {},
   "outputs": [
    {
     "data": {
      "image/png": "[encoded data removed]",
      "text/plain": [
       "<Figure size 1000x500 with 2 Axes>"
      ]
     },
     "metadata": {},
     "output_type": "display_data"
    }
   ],
   "source": [
    "import matplotlib.pyplot as plt\n",
    "import numpy as np\n",
    "\n",
    "plt.style.reload_library()\n",
    "SMALL_SIZE = 40\n",
    "MEDIUM_SIZE = 50\n",
    "BIGGER_SIZE = 50\n",
    "\n",
    "plt.rc(\"font\", size=SMALL_SIZE)  # controls default text sizes\n",
    "plt.rc(\"axes\", titlesize=SMALL_SIZE)  # fontsize of the axes title\n",
    "plt.rc(\"axes\", labelsize=14)  # fontsize of the x and y labels\n",
    "plt.rc(\"xtick\", labelsize=14)  # fontsize of the tick labels\n",
    "plt.rc(\"ytick\", labelsize=14)  # fontsize of the tick labels\n",
    "plt.rc(\"legend\", fontsize=14)  # legend fontsize\n",
    "plt.rc(\"figure\", titlesize=BIGGER_SIZE)  # fontsize of the figure title\n",
    "\n",
    "fig, ax1 = plt.subplots(figsize=(10, 5))\n",
    "ax2 = ax1.twiny()\n",
    "plt.plot(x, target_mean, color=\"k\", label=\"Target\", marker=\"o\")\n",
    "plt.fill_between(\n",
    "    x, target_mean - target_std, target_mean + target_std, alpha=0.25, color=\"k\"\n",
    ")\n",
    "plt.plot(x, source_mean, color=\"#F2B701\", label=\"Dtest\", marker=\"o\")\n",
    "plt.fill_between(\n",
    "    x, source_mean - source_std, source_mean + source_std, alpha=0.25, color=\"#F2B701\"\n",
    ")\n",
    "\n",
    "plt.plot(x, slice_mean, color=\"#7BAAF7\", label=\"RS\", marker=\"o\")\n",
    "plt.fill_between(\n",
    "    x, slice_mean - slice_std, slice_mean + slice_std, alpha=0.25, color=\"#7BAAF7\"\n",
    ")\n",
    "\n",
    "plt.plot(x, syn_mean, color=\"#FF276B\", label=\"3S\", marker=\"o\")\n",
    "plt.fill_between(x, syn_mean - syn_std, syn_mean + syn_std, alpha=0.25, color=\"#FF276B\")\n",
    "\n",
    "ax1.set_xticks(range(len(x)))\n",
    "ax1.set_xticklabels([])\n",
    "\n",
    "ax2.set_xticks(range(len(x)))\n",
    "ax2.set_xticklabels([\" \", \"age\", \"#1+psa\", \"#2+treat\", \"#3+stage\"])\n",
    "\n",
    "plt.xlim([1, 4])\n",
    "plt.ylim([0.6, 1])\n",
    "\n",
    "ax1.set_xlabel(\"n features (Prior knowledge)\", fontsize=25)\n",
    "ax1.set_ylabel(\"Accuracy (across models)\", fontsize=25)\n",
    "\n",
    "\n",
    "# Adjust the following values according to your preference\n",
    "ax1.tick_params(axis=\"both\", which=\"major\", labelsize=25, width=2)\n",
    "ax2.tick_params(axis=\"both\", which=\"major\", labelsize=25, width=2)\n",
    "\n",
    "legend = plt.legend(loc=\"upper center\", bbox_to_anchor=(0.5, 1.32), ncol=4, fontsize=25)\n",
    "\n",
    "plt.show()\n"
   ]
  },
  {
   "attachments": {},
   "cell_type": "markdown",
   "id": "d262d6b6",
   "metadata": {},
   "source": [
    "# Check the actual predictive performance for the different data \"sample types\""
   ]
  },
  {
   "cell_type": "code",
   "execution_count": 15,
   "id": "65b5aceb",
   "metadata": {},
   "outputs": [],
   "source": [
    "target_model_scores = {}\n",
    "source_model_scores = {}\n",
    "syn_model_scores = {}\n",
    "slice_model_scores = {}\n",
    "atc_model_scores = {}\n",
    "atc_mc_model_scores = {}\n",
    "im_est_model_scores = {}\n",
    "doc_feat_model_scores = {}\n",
    "\n",
    "for idx, model_name in enumerate(trained_model_dict.keys()):\n",
    "    target_model_scores[model_name] = target[idx][-2]\n",
    "    source_model_scores[model_name] = source[idx][-2]\n",
    "    syn_model_scores[model_name] = syn[idx][-2]\n",
    "    slice_model_scores[model_name] = train_slice[idx][-2]\n",
    "    atc_model_scores[model_name] = atc[idx][-2] / 100\n",
    "    atc_mc_model_scores[model_name] = atc_mc[idx][-2] / 100\n",
    "    im_est_model_scores[model_name] = im_est[idx][-2] / 100\n",
    "    doc_feat_model_scores[model_name] = doc_feat[idx][-2] / 100\n"
   ]
  },
  {
   "cell_type": "code",
   "execution_count": 16,
   "id": "04ffb081",
   "metadata": {},
   "outputs": [],
   "source": [
    "# SORT THE SCORES TO PUT INTO PANDAS\n",
    "\n",
    "# 3S\n",
    "scores_new = sorted(syn_model_scores.items(), key=lambda item: item[1])\n",
    "ours = [score[0] for score in scores_new]\n",
    "syn_res = {}\n",
    "for score in scores_new:\n",
    "    syn_res[score[0]] = score[1]\n",
    "\n",
    "# Source\n",
    "scores_new = sorted(source_model_scores.items(), key=lambda item: item[1])\n",
    "all = [score[0] for score in scores_new]\n",
    "all_res = {}\n",
    "for score in scores_new:\n",
    "    all_res[score[0]] = score[1]\n",
    "\n",
    "# Target\n",
    "scores_new = sorted(target_model_scores.items(), key=lambda item: item[1])\n",
    "true = [score[0] for score in scores_new]\n",
    "true_res = {}\n",
    "for score in scores_new:\n",
    "    true_res[score[0]] = score[1]\n",
    "\n",
    "# RS\n",
    "scores_new = sorted(slice_model_scores.items(), key=lambda item: item[1])\n",
    "RS = [score[0] for score in scores_new]\n",
    "RS_res = {}\n",
    "for score in scores_new:\n",
    "    RS_res[score[0]] = score[1]\n",
    "\n",
    "# ATC Model\n",
    "scores_new = sorted(atc_model_scores.items(), key=lambda item: item[1])\n",
    "atc_score_list = [score[0] for score in scores_new]\n",
    "atc_res = {}\n",
    "for score in scores_new:\n",
    "    atc_res[score[0]] = score[1]\n",
    "\n",
    "# ATC MC Model\n",
    "scores_new = sorted(atc_mc_model_scores.items(), key=lambda item: item[1])\n",
    "atc_mc_score_list = [score[0] for score in scores_new]\n",
    "atc_mc_res = {}\n",
    "for score in scores_new:\n",
    "    atc_mc_res[score[0]] = score[1]\n",
    "\n",
    "# IM_EST Model\n",
    "scores_new = sorted(im_est_model_scores.items(), key=lambda item: item[1])\n",
    "im_est_score_list = [score[0] for score in scores_new]\n",
    "im_est_res = {}\n",
    "for score in scores_new:\n",
    "    im_est_res[score[0]] = score[1]\n",
    "\n",
    "# DOC_FEAT Model\n",
    "scores_new = sorted(doc_feat_model_scores.items(), key=lambda item: item[1])\n",
    "doc_feat_score_list = [score[0] for score in scores_new]\n",
    "doc_feat_res = {}\n",
    "for score in scores_new:\n",
    "    doc_feat_res[score[0]] = score[1]\n"
   ]
  },
  {
   "cell_type": "code",
   "execution_count": 17,
   "id": "ca68f24a",
   "metadata": {},
   "outputs": [
    {
     "data": {
      "text/html": [
       "<div>\n",
       "<style scoped>\n",
       "    .dataframe tbody tr th:only-of-type {\n",
       "        vertical-align: middle;\n",
       "    }\n",
       "\n",
       "    .dataframe tbody tr th {\n",
       "        vertical-align: top;\n",
       "    }\n",
       "\n",
       "    .dataframe thead th {\n",
       "        text-align: right;\n",
       "    }\n",
       "</style>\n",
       "<table border=\"1\" class=\"dataframe\">\n",
       "  <thead>\n",
       "    <tr style=\"text-align: right;\">\n",
       "      <th></th>\n",
       "      <th>lr</th>\n",
       "      <th>ada</th>\n",
       "      <th>gbc</th>\n",
       "      <th>mlp</th>\n",
       "      <th>knn</th>\n",
       "      <th>bag</th>\n",
       "      <th>dt</th>\n",
       "      <th>rf</th>\n",
       "      <th>mean</th>\n",
       "    </tr>\n",
       "  </thead>\n",
       "  <tbody>\n",
       "    <tr>\n",
       "      <th>3S-Testing</th>\n",
       "      <td>0.029848</td>\n",
       "      <td>0.051222</td>\n",
       "      <td>0.029994</td>\n",
       "      <td>0.000282</td>\n",
       "      <td>0.020221</td>\n",
       "      <td>0.011998</td>\n",
       "      <td>0.029137</td>\n",
       "      <td>0.015061</td>\n",
       "      <td>0.023470</td>\n",
       "    </tr>\n",
       "    <tr>\n",
       "      <th>All (Source)</th>\n",
       "      <td>0.210500</td>\n",
       "      <td>0.208000</td>\n",
       "      <td>0.207500</td>\n",
       "      <td>0.170000</td>\n",
       "      <td>0.233250</td>\n",
       "      <td>0.327000</td>\n",
       "      <td>0.364750</td>\n",
       "      <td>0.346250</td>\n",
       "      <td>0.258406</td>\n",
       "    </tr>\n",
       "    <tr>\n",
       "      <th>RS (Source)</th>\n",
       "      <td>0.094506</td>\n",
       "      <td>0.027597</td>\n",
       "      <td>0.026838</td>\n",
       "      <td>0.014825</td>\n",
       "      <td>0.213656</td>\n",
       "      <td>0.298578</td>\n",
       "      <td>0.392513</td>\n",
       "      <td>0.373513</td>\n",
       "      <td>0.180253</td>\n",
       "    </tr>\n",
       "    <tr>\n",
       "      <th>ATC</th>\n",
       "      <td>0.166000</td>\n",
       "      <td>0.253500</td>\n",
       "      <td>0.162500</td>\n",
       "      <td>0.140000</td>\n",
       "      <td>0.369500</td>\n",
       "      <td>0.288000</td>\n",
       "      <td>0.405500</td>\n",
       "      <td>0.214500</td>\n",
       "      <td>0.249938</td>\n",
       "    </tr>\n",
       "    <tr>\n",
       "      <th>ATC_MC</th>\n",
       "      <td>0.166000</td>\n",
       "      <td>0.253500</td>\n",
       "      <td>0.162500</td>\n",
       "      <td>0.140000</td>\n",
       "      <td>0.369500</td>\n",
       "      <td>0.288000</td>\n",
       "      <td>0.405500</td>\n",
       "      <td>0.214500</td>\n",
       "      <td>0.249938</td>\n",
       "    </tr>\n",
       "    <tr>\n",
       "      <th>IM_EST</th>\n",
       "      <td>0.160811</td>\n",
       "      <td>0.207286</td>\n",
       "      <td>0.156525</td>\n",
       "      <td>0.126529</td>\n",
       "      <td>0.131088</td>\n",
       "      <td>0.278616</td>\n",
       "      <td>0.392418</td>\n",
       "      <td>0.268561</td>\n",
       "      <td>0.215229</td>\n",
       "    </tr>\n",
       "    <tr>\n",
       "      <th>DOC_FEAT</th>\n",
       "      <td>0.161238</td>\n",
       "      <td>0.208539</td>\n",
       "      <td>0.160512</td>\n",
       "      <td>0.116515</td>\n",
       "      <td>0.148400</td>\n",
       "      <td>0.211278</td>\n",
       "      <td>0.383736</td>\n",
       "      <td>0.223679</td>\n",
       "      <td>0.201737</td>\n",
       "    </tr>\n",
       "  </tbody>\n",
       "</table>\n",
       "</div>"
      ],
      "text/plain": [
       "                    lr       ada       gbc       mlp       knn       bag  \\\n",
       "3S-Testing    0.029848  0.051222  0.029994  0.000282  0.020221  0.011998   \n",
       "All (Source)  0.210500  0.208000  0.207500  0.170000  0.233250  0.327000   \n",
       "RS (Source)   0.094506  0.027597  0.026838  0.014825  0.213656  0.298578   \n",
       "ATC           0.166000  0.253500  0.162500  0.140000  0.369500  0.288000   \n",
       "ATC_MC        0.166000  0.253500  0.162500  0.140000  0.369500  0.288000   \n",
       "IM_EST        0.160811  0.207286  0.156525  0.126529  0.131088  0.278616   \n",
       "DOC_FEAT      0.161238  0.208539  0.160512  0.116515  0.148400  0.211278   \n",
       "\n",
       "                    dt        rf      mean  \n",
       "3S-Testing    0.029137  0.015061  0.023470  \n",
       "All (Source)  0.364750  0.346250  0.258406  \n",
       "RS (Source)   0.392513  0.373513  0.180253  \n",
       "ATC           0.405500  0.214500  0.249938  \n",
       "ATC_MC        0.405500  0.214500  0.249938  \n",
       "IM_EST        0.392418  0.268561  0.215229  \n",
       "DOC_FEAT      0.383736  0.223679  0.201737  "
      ]
     },
     "execution_count": 17,
     "metadata": {},
     "output_type": "execute_result"
    }
   ],
   "source": [
    "syn_error = {}\n",
    "all_error = {}\n",
    "rs_error = {}\n",
    "atc_error = {}\n",
    "atc_mc_error = {}\n",
    "im_est_error = {}\n",
    "doc_feat_error = {}\n",
    "\n",
    "# compute absolute error vs true\n",
    "for model in RS_res.keys():\n",
    "    syn_error[model] = abs(syn_res[model] - true_res[model])\n",
    "    all_error[model] = abs(all_res[model] - true_res[model])\n",
    "    rs_error[model] = abs(RS_res[model] - true_res[model])\n",
    "    atc_error[model] = abs(atc_res[model] - true_res[model])\n",
    "    atc_mc_error[model] = abs(atc_mc_res[model] - true_res[model])\n",
    "    im_est_error[model] = abs(im_est_res[model] - true_res[model])\n",
    "    doc_feat_error[model] = abs(doc_feat_res[model] - true_res[model])\n",
    "\n",
    "# add means to each dict\n",
    "syn_error[\"mean\"] = np.mean(list(syn_error.values()))\n",
    "all_error[\"mean\"] = np.mean(list(all_error.values()))\n",
    "rs_error[\"mean\"] = np.mean(list(rs_error.values()))\n",
    "atc_error[\"mean\"] = np.mean(list(atc_error.values()))\n",
    "atc_mc_error[\"mean\"] = np.mean(list(atc_mc_error.values()))\n",
    "im_est_error[\"mean\"] = np.mean(list(im_est_error.values()))\n",
    "doc_feat_error[\"mean\"] = np.mean(list(doc_feat_error.values()))\n",
    "\n",
    "# add all dicts to a list\n",
    "error_list = [\n",
    "    syn_error,\n",
    "    all_error,\n",
    "    rs_error,\n",
    "    atc_error,\n",
    "    atc_mc_error,\n",
    "    im_est_error,\n",
    "    doc_feat_error,\n",
    "]\n",
    "\n",
    "# create a dataframe from the list\n",
    "df = pd.DataFrame(\n",
    "    error_list,\n",
    "    index=[\n",
    "        \"3S-Testing\",\n",
    "        \"All (Source)\",\n",
    "        \"RS (Source)\",\n",
    "        \"ATC\",\n",
    "        \"ATC_MC\",\n",
    "        \"IM_EST\",\n",
    "        \"DOC_FEAT\",\n",
    "    ],\n",
    ")\n",
    "df\n"
   ]
  },
  {
   "cell_type": "code",
   "execution_count": null,
   "id": "39309d5d",
   "metadata": {},
   "outputs": [],
   "source": []
  }
 ],
 "metadata": {
  "kernelspec": {
   "display_name": "my_3s_env",
   "language": "python",
   "name": "python3"
  },
  "language_info": {
   "codemirror_mode": {
    "name": "ipython",
    "version": 3
   },
   "file_extension": ".py",
   "mimetype": "text/x-python",
   "name": "python",
   "nbconvert_exporter": "python",
   "pygments_lexer": "ipython3",
   "version": "3.7.16"
  }
 },
 "nbformat": 4,
 "nbformat_minor": 5
}
